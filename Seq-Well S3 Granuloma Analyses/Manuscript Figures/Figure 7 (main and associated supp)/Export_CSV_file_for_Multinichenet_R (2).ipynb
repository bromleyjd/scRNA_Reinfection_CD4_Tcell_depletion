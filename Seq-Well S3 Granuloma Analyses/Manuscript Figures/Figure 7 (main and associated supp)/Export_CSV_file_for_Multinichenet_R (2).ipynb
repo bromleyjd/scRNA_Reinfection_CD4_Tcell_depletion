{
 "cells": [
  {
   "cell_type": "code",
   "execution_count": 1,
   "id": "c0dd0dc7",
   "metadata": {},
   "outputs": [],
   "source": [
    "import scanpy as sc\n",
    "import anndata\n",
    "import os\n",
    "import fnmatch\n",
    "%matplotlib inline\n",
    "import matplotlib.pylab as plt\n",
    "import pandas as pd\n",
    "import numpy as np\n",
    "#import scrublet as scr\n",
    "import importlib\n",
    "import sys\n",
    "from harmony import harmonize\n",
    "import seaborn as sns\n",
    "from matplotlib import rcParams\n",
    "import math\n",
    "from scipy import stats\n",
    "import seaborn as sns\n",
    "import scipy as sp\n",
    "import h5py\n",
    "import warnings\n",
    "import random\n",
    "import math\n",
    "import scvelo as scv\n",
    "from matplotlib import rcParams\n",
    "from matplotlib import cm\n",
    "from matplotlib.colors import LinearSegmentedColormap"
   ]
  },
  {
   "cell_type": "code",
   "execution_count": 2,
   "id": "c7335dfa",
   "metadata": {},
   "outputs": [],
   "source": [
    "#Setting Scanpy figure parameters \n",
    "sc.settings.set_figure_params(dpi = 500, color_map = 'RdPu', dpi_save = 500)"
   ]
  },
  {
   "cell_type": "markdown",
   "id": "98be1af4",
   "metadata": {},
   "source": [
    "# 1. Import .h5 files"
   ]
  },
  {
   "cell_type": "code",
   "execution_count": 4,
   "id": "0fb0b60c",
   "metadata": {
    "scrolled": true
   },
   "outputs": [
    {
     "name": "stdout",
     "output_type": "stream",
     "text": [
      "['/Users/joshuadavidbromley/Dropbox/Desktops/CellBender_Filtered_h5_files_10March2022/13518_Array4Granulo.h5', '/Users/joshuadavidbromley/Dropbox/Desktops/CellBender_Filtered_h5_files_10March2022/12818_Array4Granulo.h5', '/Users/joshuadavidbromley/Dropbox/Desktops/CellBender_Filtered_h5_files_10March2022/12518_Array4Granulo.h5', '/Users/joshuadavidbromley/Dropbox/Desktops/CellBender_Filtered_h5_files_10March2022/13918_Array11Granul.h5', '/Users/joshuadavidbromley/Dropbox/Desktops/CellBender_Filtered_h5_files_10March2022/13918_Array10Granul.h5', '/Users/joshuadavidbromley/Dropbox/Desktops/CellBender_Filtered_h5_files_10March2022/14018_Array3Granulo.h5', '/Users/joshuadavidbromley/Dropbox/Desktops/CellBender_Filtered_h5_files_10March2022/13818_Array9Granulo.h5', '/Users/joshuadavidbromley/Dropbox/Desktops/CellBender_Filtered_h5_files_10March2022/12518_Array2Granulo.h5', '/Users/joshuadavidbromley/Dropbox/Desktops/CellBender_Filtered_h5_files_10March2022/12818_Array2Granulo.h5', '/Users/joshuadavidbromley/Dropbox/Desktops/CellBender_Filtered_h5_files_10March2022/13518_Array2Granulo.h5', '/Users/joshuadavidbromley/Dropbox/Desktops/CellBender_Filtered_h5_files_10March2022/14018_Array5Granulo.h5', '/Users/joshuadavidbromley/Dropbox/Desktops/CellBender_Filtered_h5_files_10March2022/13518_Array5Granulo.h5', '/Users/joshuadavidbromley/Dropbox/Desktops/CellBender_Filtered_h5_files_10March2022/12818_Array5Granulo.h5', '/Users/joshuadavidbromley/Dropbox/Desktops/CellBender_Filtered_h5_files_10March2022/12518_Array5Granulo.h5', '/Users/joshuadavidbromley/Dropbox/Desktops/CellBender_Filtered_h5_files_10March2022/13818_Array12Granul.h5', '/Users/joshuadavidbromley/Dropbox/Desktops/CellBender_Filtered_h5_files_10March2022/14018_Array2Granulo.h5', '/Users/joshuadavidbromley/Dropbox/Desktops/CellBender_Filtered_h5_files_10March2022/13818_Array8Granulo.h5', '/Users/joshuadavidbromley/Dropbox/Desktops/CellBender_Filtered_h5_files_10March2022/14218_Array11Granul.h5', '/Users/joshuadavidbromley/Dropbox/Desktops/CellBender_Filtered_h5_files_10March2022/14218_Array10Granul.h5', '/Users/joshuadavidbromley/Dropbox/Desktops/CellBender_Filtered_h5_files_10March2022/12518_Array3Granulo.h5', '/Users/joshuadavidbromley/Dropbox/Desktops/CellBender_Filtered_h5_files_10March2022/12818_Array3Granulo.h5', '/Users/joshuadavidbromley/Dropbox/Desktops/CellBender_Filtered_h5_files_10March2022/13518_Array3Granulo.h5', '/Users/joshuadavidbromley/Dropbox/Desktops/CellBender_Filtered_h5_files_10March2022/14018_Array4Granulo.h5', '/Users/joshuadavidbromley/Dropbox/Desktops/CellBender_Filtered_h5_files_10March2022/28618_Array4Granulo.h5', '/Users/joshuadavidbromley/Dropbox/Desktops/CellBender_Filtered_h5_files_10March2022/12818_Array6Granulo.h5', '/Users/joshuadavidbromley/Dropbox/Desktops/CellBender_Filtered_h5_files_10March2022/13518_Array6Granulo.h5', '/Users/joshuadavidbromley/Dropbox/Desktops/CellBender_Filtered_h5_files_10March2022/28318_Array3Granulo.h5', '/Users/joshuadavidbromley/Dropbox/Desktops/CellBender_Filtered_h5_files_10March2022/13918_Array12Granul.h5', '/Users/joshuadavidbromley/Dropbox/Desktops/CellBender_Filtered_h5_files_10March2022/14218_Array9Granulo.h5', '/Users/joshuadavidbromley/Dropbox/Desktops/CellBender_Filtered_h5_files_10March2022/13918_Array8Granulo.h5', '/Users/joshuadavidbromley/Dropbox/Desktops/CellBender_Filtered_h5_files_10March2022/28618_Array5Granulo.h5', '/Users/joshuadavidbromley/Dropbox/Desktops/CellBender_Filtered_h5_files_10March2022/14218_Array12Granul.h5', '/Users/joshuadavidbromley/Dropbox/Desktops/CellBender_Filtered_h5_files_10March2022/13818_Array11Granul.h5', '/Users/joshuadavidbromley/Dropbox/Desktops/CellBender_Filtered_h5_files_10March2022/13818_Array10Granul.h5', '/Users/joshuadavidbromley/Dropbox/Desktops/CellBender_Filtered_h5_files_10March2022/14218_Array8Granulo.h5', '/Users/joshuadavidbromley/Dropbox/Desktops/CellBender_Filtered_h5_files_10March2022/13918_Array9Granulo.h5']\n",
      "Number of matching files: 36\n"
     ]
    }
   ],
   "source": [
    "import os\n",
    "import fnmatch\n",
    "\n",
    "directory = './CellBender_Filtered_h5_files_10March2022'\n",
    "granuloma = '*Gran*'\n",
    "\n",
    "matching_files = []\n",
    "\n",
    "for filename in os.listdir(directory):\n",
    "    if fnmatch.fnmatch(filename, granuloma):\n",
    "        full_file_path = os.path.join(directory, filename)\n",
    "        matching_files.append(full_file_path)\n",
    "\n",
    "print(matching_files)\n",
    "print(f\"Number of matching files: {len(matching_files)}\")\n"
   ]
  },
  {
   "cell_type": "code",
   "execution_count": 5,
   "id": "7637dce4",
   "metadata": {
    "scrolled": true
   },
   "outputs": [
    {
     "name": "stdout",
     "output_type": "stream",
     "text": [
      "13518_Array4Granulo.h5\n",
      "12818_Array4Granulo.h5\n",
      "12518_Array4Granulo.h5\n",
      "13918_Array11Granul.h5\n",
      "13918_Array10Granul.h5\n",
      "14018_Array3Granulo.h5\n",
      "13818_Array9Granulo.h5\n",
      "12518_Array2Granulo.h5\n",
      "12818_Array2Granulo.h5\n",
      "13518_Array2Granulo.h5\n",
      "14018_Array5Granulo.h5\n",
      "13518_Array5Granulo.h5\n",
      "12818_Array5Granulo.h5\n",
      "12518_Array5Granulo.h5\n",
      "13818_Array12Granul.h5\n",
      "14018_Array2Granulo.h5\n",
      "13818_Array8Granulo.h5\n",
      "14218_Array11Granul.h5\n",
      "14218_Array10Granul.h5\n",
      "12518_Array3Granulo.h5\n",
      "12818_Array3Granulo.h5\n",
      "13518_Array3Granulo.h5\n",
      "14018_Array4Granulo.h5\n",
      "28618_Array4Granulo.h5\n",
      "12818_Array6Granulo.h5\n",
      "13518_Array6Granulo.h5\n",
      "28318_Array3Granulo.h5\n",
      "13918_Array12Granul.h5\n",
      "14218_Array9Granulo.h5\n",
      "13918_Array8Granulo.h5\n",
      "28618_Array5Granulo.h5\n",
      "14218_Array12Granul.h5\n",
      "13818_Array11Granul.h5\n",
      "13818_Array10Granul.h5\n",
      "14218_Array8Granulo.h5\n",
      "13918_Array9Granulo.h5\n"
     ]
    }
   ],
   "source": [
    "import os\n",
    "\n",
    "adata_list = []\n",
    "for f in matching_files:\n",
    "    base_filename = os.path.basename(f) \n",
    "\n",
    "    monkey = base_filename[0:5]  \n",
    "    array = base_filename.split(\"_\")[-1]  \n",
    "    file = base_filename[-5:]  \n",
    "\n",
    "    a = sc.read_10x_h5(f)\n",
    "    a.var_names_make_unique()\n",
    "\n",
    "    new_obs_names = [monkey + \"_\" + array + \"_\" + i for i in a.obs.index]\n",
    "    a.obs_names = [i.replace('.h5', '') for i in new_obs_names]  \n",
    "    adata_list.append(a)\n",
    "    print(base_filename)  "
   ]
  },
  {
   "cell_type": "code",
   "execution_count": 6,
   "id": "0d4c0e55",
   "metadata": {},
   "outputs": [
    {
     "data": {
      "text/plain": [
       "AnnData object with n_obs × n_vars = 171974 × 32152"
      ]
     },
     "execution_count": 6,
     "metadata": {},
     "output_type": "execute_result"
    }
   ],
   "source": [
    "all_adata = sc.concat(adata_list,join='outer')\n",
    "all_adata"
   ]
  },
  {
   "cell_type": "code",
   "execution_count": 7,
   "id": "14171d19",
   "metadata": {},
   "outputs": [
    {
     "data": {
      "text/plain": [
       "AnnData object with n_obs × n_vars = 88360 × 25901\n",
       "    obs: 'sample', 'DGE_name', 'monkey', 'array number', 'Sample Name', 'Sample type', 'Time point of sampling', 'Infusion before 2nd Mtb infection anti CD4 or IgG', 'Naïve or Primary Infection or Reinfection at sample time', 'Group', 'Group_Detailed', 'Drug Treatment', 'CFU Total ', 'Type of Mtb strain ', 'n_genes', 'n_counts', 'percent_mito', 'percent_ribo', 'percent_hbb', 'predicted_doublets', 'color', 'SubclusteringGroup', 'Subclustering', 'Doublet', 'leiden', 'leiden_lab_orig', 'Doublet_labels', 'Doublet_colors', 'Doublet_str', 'Doublet_int', 'CoarseClustering', 'SubclusteringV2'\n",
       "    var: 'n_cells', 'Blacklist_Genes', 'highly_variable', 'means', 'dispersions', 'dispersions_norm'\n",
       "    uns: 'CoarseClustering_colors', 'Doublet_colors_colors', 'Doublet_str_colors', 'Group_colors', 'SubclusteringV2_colors', 'Subclustering_colors', 'hvg', 'leiden', 'leiden_colors', 'leiden_lab_orig_colors', 'log1p', 'neighbors', 'pca', 'rank_genes_groups', 'umap'\n",
       "    obsm: 'X_pca', 'X_umap'\n",
       "    varm: 'PCs'\n",
       "    obsp: 'connectivities', 'distances'"
      ]
     },
     "execution_count": 7,
     "metadata": {},
     "output_type": "execute_result"
    }
   ],
   "source": [
    "adata_allcells = sc.read_h5ad(\"./Scanpy_H5AD/adata_Final_for_Reinfection_publication.h5ad\")\n",
    "adata_allcells"
   ]
  },
  {
   "cell_type": "code",
   "execution_count": 8,
   "id": "f99b89a1",
   "metadata": {},
   "outputs": [
    {
     "data": {
      "text/plain": [
       "AnnData object with n_obs × n_vars = 88360 × 32152\n",
       "    obs: 'sample', 'DGE_name', 'monkey', 'array number', 'Sample Name', 'Sample type', 'Time point of sampling', 'Infusion before 2nd Mtb infection anti CD4 or IgG', 'Naïve or Primary Infection or Reinfection at sample time', 'Group', 'Group_Detailed', 'Drug Treatment', 'CFU Total ', 'Type of Mtb strain ', 'n_genes', 'n_counts', 'percent_mito', 'percent_ribo', 'percent_hbb', 'predicted_doublets', 'color', 'SubclusteringGroup', 'Subclustering', 'Doublet', 'leiden', 'leiden_lab_orig', 'Doublet_labels', 'Doublet_colors', 'Doublet_str', 'Doublet_int', 'CoarseClustering', 'SubclusteringV2'"
      ]
     },
     "execution_count": 8,
     "metadata": {},
     "output_type": "execute_result"
    }
   ],
   "source": [
    "cells_use = list(set(adata_allcells.obs_names).intersection(all_adata.obs_names))\n",
    "all_adata= all_adata[cells_use]\n",
    "all_adata.obs = adata_allcells.obs.loc[cells_use]\n",
    "all_adata.var_names_make_unique()\n",
    "all_adata"
   ]
  },
  {
   "cell_type": "code",
   "execution_count": 9,
   "id": "9e6e535c",
   "metadata": {},
   "outputs": [
    {
     "data": {
      "text/plain": [
       "array([[0., 0., 0., ..., 0., 0., 0.],\n",
       "       [0., 0., 0., ..., 0., 0., 0.],\n",
       "       [0., 0., 0., ..., 0., 1., 0.],\n",
       "       ...,\n",
       "       [0., 0., 0., ..., 0., 0., 0.],\n",
       "       [0., 0., 0., ..., 0., 0., 0.],\n",
       "       [0., 0., 0., ..., 0., 0., 0.]], dtype=float32)"
      ]
     },
     "execution_count": 9,
     "metadata": {},
     "output_type": "execute_result"
    }
   ],
   "source": [
    "t=all_adata.X.toarray()\n",
    "t"
   ]
  },
  {
   "cell_type": "code",
   "execution_count": 11,
   "id": "393d1f7d",
   "metadata": {},
   "outputs": [],
   "source": [
    "pd.DataFrame(data=t, index=all_adata.obs_names, columns=all_adata.var_names).T.to_csv(\"./Expression_Matrix_Reinfection_CD4_for_Multinichnet.csv\")"
   ]
  },
  {
   "cell_type": "code",
   "execution_count": 10,
   "id": "8afc52d7",
   "metadata": {},
   "outputs": [],
   "source": [
    "pd.DataFrame(all_adata.obs[['sample', 'DGE_name', 'monkey', 'array number', 'Sample Name', 'Sample type', 'Group', 'Group_Detailed', 'Drug Treatment', 'n_genes', 'n_counts','SubclusteringV2',\"CoarseClustering\"]]).to_csv('./Metadata_Matrix_Reinfection_CD4_for_Multinichnet.csv')"
   ]
  },
  {
   "cell_type": "code",
   "execution_count": null,
   "id": "57623a0b",
   "metadata": {},
   "outputs": [],
   "source": []
  },
  {
   "cell_type": "code",
   "execution_count": null,
   "id": "bcc60152",
   "metadata": {},
   "outputs": [],
   "source": []
  }
 ],
 "metadata": {
  "kernelspec": {
   "display_name": "Python 3 (ipykernel)",
   "language": "python",
   "name": "python3"
  },
  "language_info": {
   "codemirror_mode": {
    "name": "ipython",
    "version": 3
   },
   "file_extension": ".py",
   "mimetype": "text/x-python",
   "name": "python",
   "nbconvert_exporter": "python",
   "pygments_lexer": "ipython3",
   "version": "3.11.7"
  }
 },
 "nbformat": 4,
 "nbformat_minor": 5
}
